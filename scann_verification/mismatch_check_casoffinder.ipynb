{
 "cells": [
  {
   "cell_type": "code",
   "execution_count": 1,
   "metadata": {},
   "outputs": [],
   "source": [
    "import numpy as np\n",
    "import pandas as pd\n",
    "import matplotlib.pyplot as plt"
   ]
  },
  {
   "cell_type": "code",
   "execution_count": 2,
   "metadata": {},
   "outputs": [],
   "source": [
    "df_1 = pd.read_csv('output_v1.csv')\n",
    "df_2 = pd.read_csv('output_v2.csv')\n",
    "df_3 = pd.read_csv('output_v3.csv')"
   ]
  },
  {
   "cell_type": "code",
   "execution_count": 3,
   "metadata": {},
   "outputs": [],
   "source": [
    "MM0 = []\n",
    "MM1 = []\n",
    "MM2 = []\n",
    "MM3 = []\n",
    "MM4 = []\n",
    "MM5 = []\n",
    "\n",
    "for j in range(3): \n",
    "    off_target_data = pd.read_csv('./casoffinder_' + str(j+1) + '.txt', sep='\\t')\n",
    "    \n",
    "    mismatch_guides_0 = []\n",
    "    mismatch_guides_1 = []\n",
    "    mismatch_guides_2 = []\n",
    "    mismatch_guides_3 = []\n",
    "    mismatch_guides_4 = []\n",
    "    mismatch_guides_5 = []\n",
    "\n",
    "    for i in range(len(off_target_data)):\n",
    "        if off_target_data['Mismatches'][i] == 0:\n",
    "            mismatch_guides_0.append(off_target_data['crRNA'][i])\n",
    "\n",
    "    MM0.append(len(list(np.unique(mismatch_guides_0))))\n",
    "\n",
    "    for i in range(len(off_target_data)):\n",
    "        if off_target_data['Mismatches'][i] == 1:\n",
    "            mismatch_guides_1.append(off_target_data['crRNA'][i])\n",
    "\n",
    "    MM1.append(len(list(np.unique(mismatch_guides_1))))\n",
    "\n",
    "    for i in range(len(off_target_data)):\n",
    "        if off_target_data['Mismatches'][i] == 2:\n",
    "            mismatch_guides_0.append(off_target_data['crRNA'][i])\n",
    "\n",
    "    MM2.append(len(list(np.unique(mismatch_guides_2))))\n",
    "\n",
    "    for i in range(len(off_target_data)):\n",
    "        if off_target_data['Mismatches'][i] == 3:\n",
    "            mismatch_guides_0.append(off_target_data['crRNA'][i])\n",
    "\n",
    "    MM3.append(len(list(np.unique(mismatch_guides_3))))\n",
    "\n",
    "    for i in range(len(off_target_data)):\n",
    "        if off_target_data['Mismatches'][i] == 4:\n",
    "            mismatch_guides_4.append(off_target_data['crRNA'][i])\n",
    "\n",
    "    MM4.append(len(list(np.unique(mismatch_guides_4))))\n",
    "\n",
    "    for i in range(len(off_target_data)):\n",
    "        if off_target_data['Mismatches'][i] == 5:\n",
    "            mismatch_guides_5.append(off_target_data['crRNA'][i])\n",
    "\n",
    "    MM5.append(len(list(np.unique(mismatch_guides_5))))"
   ]
  },
  {
   "cell_type": "code",
   "execution_count": 4,
   "metadata": {},
   "outputs": [
    {
     "data": {
      "image/png": "[encoded data removed]",
      "text/plain": [
       "<Figure size 468x360 with 1 Axes>"
      ]
     },
     "metadata": {
      "needs_background": "light"
     },
     "output_type": "display_data"
    }
   ],
   "source": [
    "bar_labels = ['MM0', 'MM1', 'MM2', 'MM3', 'MM4', 'MM5']\n",
    "bar_values =  [np.mean(MM0) - np.mean([len(df_1),len(df_2),len(df_3)]), np.mean(MM1), np.mean(MM2), np.mean(MM3), np.mean(MM4), np.mean(MM5)]\n",
    "bar_std =  [np.std([m - n for m, n in zip(MM0, [len(df_1),len(df_2),len(df_3)])]), np.std(MM1), np.std(MM2), np.std(MM3), np.std(MM4), np.std(MM5)]\n",
    "  \n",
    "fig = plt.figure(figsize = (6.5, 5))\n",
    "bar_width = 0.4\n",
    "# creating the bar plot \n",
    "plt.xlabel(\"Mismatches\", fontsize=12)\n",
    "plt.ylabel(\"Number of Off-targets\", fontsize=12)\n",
    "#plt.title(\"Cas-OFFinder off-target check R64 with s288c assembly GCA_000146045.2\", fontsize=18)\n",
    "plt.title(\"Cas-OFFinder\", fontsize=14)\n",
    "bar = plt.bar(bar_labels, bar_values, bar_width, align='center')\n",
    "(_, caps, _) = plt.errorbar(bar_labels, bar_values, yerr=bar_std, fmt=\"o\", color='black', capsize=5)\n",
    "\n",
    "for cap in caps:\n",
    "    cap.set_markeredgewidth(1)\n",
    "    \n",
    "for rect in bar:\n",
    "    height = rect.get_height()\n",
    "    plt.text(rect.get_x() + rect.get_width() / 2.0, height + 3, f'{height:.0f}', ha='center', va='bottom')\n",
    "    \n",
    "plt.show()\n",
    "#plt.savefig('Cas-OFFinder off-target check_v1.png', dpi = 400)"
   ]
  },
  {
   "cell_type": "code",
   "execution_count": null,
   "metadata": {},
   "outputs": [],
   "source": []
  }
 ],
 "metadata": {
  "kernelspec": {
   "display_name": "Python 3 (ipykernel)",
   "language": "python",
   "name": "python3"
  },
  "language_info": {
   "codemirror_mode": {
    "name": "ipython",
    "version": 3
   },
   "file_extension": ".py",
   "mimetype": "text/x-python",
   "name": "python",
   "nbconvert_exporter": "python",
   "pygments_lexer": "ipython3",
   "version": "3.7.11"
  }
 },
 "nbformat": 4,
 "nbformat_minor": 2
}
