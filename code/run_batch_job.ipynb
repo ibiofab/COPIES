{
 "cells": [
  {
   "cell_type": "code",
   "execution_count": null,
   "id": "a6227540-1fac-4c81-bc73-5a935421fa81",
   "metadata": {},
   "outputs": [],
   "source": [
    "import requests, base64, zipfile, io, time, json, os\n",
    "from pprint import pprint\n",
    "jobs = []"
   ]
  },
  {
   "cell_type": "code",
   "execution_count": null,
   "id": "d6c5eb42-a86a-4050-918d-afa1488316f8",
   "metadata": {},
   "outputs": [],
   "source": [
    "opts = {\n",
    "        \"data\":{ \n",
    "            \"lookup\"           : \"Escherichia coli\",\n",
    "            \"PAM\"              : \"NGG\",\n",
    "            \"Orientation\"      : \"3prime\",\n",
    "            \"Guide_Length\"     : 20,\n",
    "            \"Seed_Length\"      : 10,\n",
    "            \"edit_dist\"        : 6,\n",
    "            \"gene_density_len\" : 10000,\n",
    "            #\"intspace\"         : 400,\n",
    "            \"blast_org\"        : \"Escherichia coli MG1655 I,Escherichia coli MG1655 II\"\n",
    "        },\n",
    "        \"vcpus\":16,\n",
    "        \"memory\":15000,\n",
    "        \"timeout\": 3600\n",
    "       }\n",
    "\n",
    "r = requests.post(\"https://5fakh91t4f.execute-api.us-east-2.amazonaws.com/default/COPIES-runner\", json=opts)\n",
    "post_data =json.loads(r.content.decode(\"utf-8\"))\n",
    "print(\"Started job with id: {}\".format(post_data[\"id\"]))\n",
    "jobs.append(post_data[\"id\"])"
   ]
  },
  {
   "cell_type": "code",
   "execution_count": null,
   "id": "75bb94f2-55c3-4244-84ef-96fedd4ef519",
   "metadata": {},
   "outputs": [],
   "source": [
    "print(\"Waiting for {} to complete (polling every 5s)...\".format(post_data[\"id\"]))\n",
    "complete = 0\n",
    "while complete < 100:\n",
    "    r = requests.post(\"https://5fakh91t4f.execute-api.us-east-2.amazonaws.com/default/COPIES-runner\",\n",
    "                      json={\"get_update\":post_data[\"id\"]})\n",
    "    progress_data = json.loads(r.content.decode(\"utf-8\"))\n",
    "    complete = progress_data[\"percent_complete\"]\n",
    "    time.sleep(5)\n",
    "    \n",
    "r = requests.get(progress_data[\"download_url\"])\n",
    "os.makedirs(\"./{}\".format(post_data[\"id\"]))\n",
    "zipfile.ZipFile(io.BytesIO(r.content)).extractall(path=\"./{}\".format(post_data[\"id\"]))\n",
    "\n",
    "print(\"------------\")\n",
    "with open(\"./{}/output.txt\".format(post_data[\"id\"]), \"r\") as f:\n",
    "    print(f.read())\n",
    "print(\"------------\")\n",
    "with open(\"./{}/output_data.csv\".format(post_data[\"id\"]), \"r\") as f:\n",
    "    print(f.read())"
   ]
  }
 ],
 "metadata": {
  "kernelspec": {
   "display_name": "Python 3 (ipykernel)",
   "language": "python",
   "name": "python3"
  },
  "language_info": {
   "codemirror_mode": {
    "name": "ipython",
    "version": 3
   },
   "file_extension": ".py",
   "mimetype": "text/x-python",
   "name": "python",
   "nbconvert_exporter": "python",
   "pygments_lexer": "ipython3",
   "version": "3.8.3"
  }
 },
 "nbformat": 4,
 "nbformat_minor": 5
}
